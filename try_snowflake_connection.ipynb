{
 "cells": [
  {
   "cell_type": "code",
   "execution_count": 3,
   "metadata": {},
   "outputs": [],
   "source": [
    "import os\n",
    "import snowflake.connector\n",
    "import pandas as pd"
   ]
  },
  {
   "cell_type": "code",
   "execution_count": 5,
   "metadata": {},
   "outputs": [],
   "source": [
    "os.environ['SNOWFLAKE_PASSWORD'] = 'Devdataengineer2024'"
   ]
  },
  {
   "cell_type": "code",
   "execution_count": 12,
   "metadata": {},
   "outputs": [],
   "source": [
    "# Función para cargar el DataFrame a Snowflake\n",
    "def load_csv_to_snowflake(data):\n",
    "    \"\"\"\n",
    "    Función para cargar un DataFrame a la tabla en Snowflake.\n",
    "    \"\"\"\n",
    "    # Obtener la contraseña desde la variable de entorno\n",
    "    password = os.getenv('SNOWFLAKE_PASSWORD')\n",
    "    \n",
    "    # Conectar a Snowflake\n",
    "    conn = snowflake.connector.connect(\n",
    "        user='ignacioloyolahernandez',\n",
    "        password=password,\n",
    "        account='cu03892.sa-east-1.aws',\n",
    "        warehouse='weather_wh',\n",
    "        database='weather_db',\n",
    "        schema='public',\n",
    "        role='accountadmin'\n",
    "    )\n",
    "\n",
    "    cur = conn.cursor()\n",
    "\n",
    "    # Insertar los datos del DataFrame en la tabla\n",
    "    insert_query = \"\"\"\n",
    "    INSERT INTO weather_obs (\n",
    "        STATION_ID, STATION_NAME, STATION_TIMEZONE, LATITUDE, LONGITUDE, TIMESTAMP, TEMPERATURE, WIND_SPEED, HUMIDITY\n",
    "    ) VALUES (%s, %s, %s, %s, %s, %s, %s, %s, %s);\n",
    "    \"\"\"\n",
    "\n",
    "    # Iterar sobre el DataFrame y cargar los datos\n",
    "    for _, row in data.iterrows():\n",
    "        cur.execute(insert_query, (\n",
    "            row['station_id'],\n",
    "            row['station_name'],\n",
    "            row['station_timezone'],\n",
    "            row['latitude'],\n",
    "            row['longitude'],\n",
    "            row['timestamp'],\n",
    "            row['temperature'],\n",
    "            row['wind_speed'],\n",
    "            row['humidity']\n",
    "        ))\n",
    "\n",
    "    cur.close()\n",
    "    conn.close()"
   ]
  },
  {
   "cell_type": "code",
   "execution_count": 13,
   "metadata": {},
   "outputs": [],
   "source": [
    "# Probar la función\n",
    "data = pd.read_csv('example_data.csv')\n",
    "load_csv_to_snowflake(data)\n"
   ]
  },
  {
   "cell_type": "code",
   "execution_count": 11,
   "metadata": {},
   "outputs": [
    {
     "data": {
      "text/plain": [
       "station_id           object\n",
       "station_name         object\n",
       "station_timezone     object\n",
       "latitude            float64\n",
       "longitude           float64\n",
       "timestamp            object\n",
       "temperature         float64\n",
       "wind_speed          float64\n",
       "humidity            float64\n",
       "dtype: object"
      ]
     },
     "execution_count": 11,
     "metadata": {},
     "output_type": "execute_result"
    }
   ],
   "source": [
    "data.dtypes"
   ]
  },
  {
   "cell_type": "code",
   "execution_count": null,
   "metadata": {},
   "outputs": [],
   "source": []
  }
 ],
 "metadata": {
  "kernelspec": {
   "display_name": "Python 3",
   "language": "python",
   "name": "python3"
  },
  "language_info": {
   "codemirror_mode": {
    "name": "ipython",
    "version": 3
   },
   "file_extension": ".py",
   "mimetype": "text/x-python",
   "name": "python",
   "nbconvert_exporter": "python",
   "pygments_lexer": "ipython3",
   "version": "3.12.2"
  }
 },
 "nbformat": 4,
 "nbformat_minor": 2
}
