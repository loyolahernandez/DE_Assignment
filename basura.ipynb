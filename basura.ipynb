{
 "cells": [
  {
   "cell_type": "code",
   "execution_count": 3,
   "metadata": {},
   "outputs": [],
   "source": [
    "import requests\n",
    "import pandas as pd\n",
    "from sqlalchemy import create_engine\n",
    "from datetime import datetime\n",
    "from plugins.utils import fetch_weather_data, transform_observations"
   ]
  },
  {
   "cell_type": "code",
   "execution_count": 5,
   "metadata": {},
   "outputs": [],
   "source": [
    "STATION_ID = \"0128W\"\n",
    "\n",
    "name_map, timezone_map, observations = fetch_weather_data(STATION_ID)[0], fetch_weather_data(STATION_ID)[1], fetch_weather_data(STATION_ID)[2]\n",
    "\n",
    "obs = transform_observations(STATION_ID, observations, name_map, timezone_map)\n",
    "\n"
   ]
  },
  {
   "cell_type": "code",
   "execution_count": 6,
   "metadata": {},
   "outputs": [
    {
     "data": {
      "text/plain": [
       "{'station_id': '0128W',\n",
       " 'station_name': 'Ringling Museum of Art',\n",
       " 'station_timezone': 'America/New_York',\n",
       " 'latitude': 27.38,\n",
       " 'longitude': -82.56,\n",
       " 'timestamp': '2024-09-04T20:40:00+00:00',\n",
       " 'temperature': None,\n",
       " 'wind_speed': None,\n",
       " 'humidity': None}"
      ]
     },
     "execution_count": 6,
     "metadata": {},
     "output_type": "execute_result"
    }
   ],
   "source": [
    "obs[0]"
   ]
  },
  {
   "cell_type": "code",
   "execution_count": null,
   "metadata": {},
   "outputs": [],
   "source": []
  }
 ],
 "metadata": {
  "kernelspec": {
   "display_name": "Python 3",
   "language": "python",
   "name": "python3"
  },
  "language_info": {
   "codemirror_mode": {
    "name": "ipython",
    "version": 3
   },
   "file_extension": ".py",
   "mimetype": "text/x-python",
   "name": "python",
   "nbconvert_exporter": "python",
   "pygments_lexer": "ipython3",
   "version": "3.12.2"
  }
 },
 "nbformat": 4,
 "nbformat_minor": 2
}
