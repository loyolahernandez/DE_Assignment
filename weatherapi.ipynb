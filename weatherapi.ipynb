{
 "cells": [
  {
   "cell_type": "markdown",
   "metadata": {},
   "source": [
    "# Take home assignment - Front\n",
    "## Ignacio Loyola Hernández"
   ]
  },
  {
   "cell_type": "markdown",
   "metadata": {},
   "source": [
    "### Requirements"
   ]
  },
  {
   "cell_type": "code",
   "execution_count": 1,
   "metadata": {},
   "outputs": [],
   "source": [
    "import requests\n",
    "import pandas as pd\n",
    "from sqlalchemy import create_engine\n",
    "from datetime import datetime"
   ]
  },
  {
   "cell_type": "markdown",
   "metadata": {},
   "source": [
    "### Settings"
   ]
  },
  {
   "cell_type": "code",
   "execution_count": 2,
   "metadata": {},
   "outputs": [],
   "source": [
    "API_BASE_URL = \"https://api.weather.gov/stations\"\n",
    "STATION_ID = \"0128W\""
   ]
  },
  {
   "cell_type": "code",
   "execution_count": 3,
   "metadata": {},
   "outputs": [],
   "source": [
    "# get dict of stations names and timezones\n",
    "def get_stations():\n",
    "    response = requests.get(f\"{API_BASE_URL}\")\n",
    "    stations = response.json().get('features', [])\n",
    "    name_map = {station['properties']['stationIdentifier']: station['properties']['name'] for station in stations}\n",
    "    timezone_map = {station['properties']['stationIdentifier']: station['properties']['timeZone'] for station in stations}\n",
    "    return name_map, timezone_map\n",
    "\n",
    "name_map, timezone_map = get_stations()[0], get_stations()[1]"
   ]
  },
  {
   "cell_type": "code",
   "execution_count": 4,
   "metadata": {},
   "outputs": [],
   "source": [
    "# get weather information for a single station\n",
    "def get_station_observations(station_id):\n",
    "    url = f\"{API_BASE_URL}/{station_id}/observations\"\n",
    "    response = requests.get(url)\n",
    "    observations = response.json().get('features', [])\n",
    "    return observations"
   ]
  },
  {
   "cell_type": "code",
   "execution_count": 5,
   "metadata": {},
   "outputs": [
    {
     "data": {
      "text/plain": [
       "{'@id': 'https://api.weather.gov/stations/0128W/observations/2024-09-07T17:40:00+00:00',\n",
       " '@type': 'wx:ObservationStation',\n",
       " 'elevation': {'unitCode': 'wmoUnit:m', 'value': 11},\n",
       " 'station': 'https://api.weather.gov/stations/0128W',\n",
       " 'timestamp': '2024-09-07T17:40:00+00:00',\n",
       " 'rawMessage': '',\n",
       " 'textDescription': '',\n",
       " 'icon': None,\n",
       " 'presentWeather': [],\n",
       " 'temperature': {'unitCode': 'wmoUnit:degC',\n",
       "  'value': 33.44,\n",
       "  'qualityControl': 'V'},\n",
       " 'dewpoint': {'unitCode': 'wmoUnit:degC',\n",
       "  'value': 26.51,\n",
       "  'qualityControl': 'V'},\n",
       " 'windDirection': {'unitCode': 'wmoUnit:degree_(angle)',\n",
       "  'value': 195,\n",
       "  'qualityControl': 'V'},\n",
       " 'windSpeed': {'unitCode': 'wmoUnit:km_h-1',\n",
       "  'value': 1.62,\n",
       "  'qualityControl': 'V'},\n",
       " 'windGust': {'unitCode': 'wmoUnit:km_h-1',\n",
       "  'value': None,\n",
       "  'qualityControl': 'Z'},\n",
       " 'barometricPressure': {'unitCode': 'wmoUnit:Pa',\n",
       "  'value': 101049.79,\n",
       "  'qualityControl': 'V'},\n",
       " 'seaLevelPressure': {'unitCode': 'wmoUnit:Pa',\n",
       "  'value': None,\n",
       "  'qualityControl': 'Z'},\n",
       " 'visibility': {'unitCode': 'wmoUnit:m', 'value': None, 'qualityControl': 'Z'},\n",
       " 'maxTemperatureLast24Hours': {'unitCode': 'wmoUnit:degC', 'value': None},\n",
       " 'minTemperatureLast24Hours': {'unitCode': 'wmoUnit:degC', 'value': None},\n",
       " 'precipitationLast3Hours': {'unitCode': 'wmoUnit:mm',\n",
       "  'value': None,\n",
       "  'qualityControl': 'Z'},\n",
       " 'relativeHumidity': {'unitCode': 'wmoUnit:percent',\n",
       "  'value': 67.144408395474,\n",
       "  'qualityControl': 'V'},\n",
       " 'windChill': {'unitCode': 'wmoUnit:degC',\n",
       "  'value': None,\n",
       "  'qualityControl': 'V'},\n",
       " 'heatIndex': {'unitCode': 'wmoUnit:degC',\n",
       "  'value': 43.60830634865,\n",
       "  'qualityControl': 'V'},\n",
       " 'cloudLayers': []}"
      ]
     },
     "execution_count": 5,
     "metadata": {},
     "output_type": "execute_result"
    }
   ],
   "source": [
    "observations = get_station_observations(STATION_ID)\n",
    "observations[0]['properties']"
   ]
  },
  {
   "cell_type": "code",
   "execution_count": 6,
   "metadata": {},
   "outputs": [],
   "source": [
    "# get dict of stations names and timezones\n",
    "def fetch_weather_data(station_id):\n",
    "    # get stations names and timezones\n",
    "    API_BASE_URL = \"https://api.weather.gov/stations\"\n",
    "    response = requests.get(f\"{API_BASE_URL}\")\n",
    "    stations = response.json().get('features', [])\n",
    "    name_map = {station['properties']['stationIdentifier']: station['properties']['name'] for station in stations}\n",
    "    timezone_map = {station['properties']['stationIdentifier']: station['properties']['timeZone'] for station in stations}\n",
    "\n",
    "    # get observations of selected station\n",
    "    url = f\"{API_BASE_URL}/{station_id}/observations\"\n",
    "    response = requests.get(url)\n",
    "    observations = response.json().get('features', [])\n",
    "\n",
    "    return name_map, timezone_map, observations"
   ]
  },
  {
   "cell_type": "code",
   "execution_count": 7,
   "metadata": {},
   "outputs": [
    {
     "ename": "TypeError",
     "evalue": "get_stations() takes 0 positional arguments but 1 was given",
     "output_type": "error",
     "traceback": [
      "\u001b[0;31m---------------------------------------------------------------------------\u001b[0m",
      "\u001b[0;31mTypeError\u001b[0m                                 Traceback (most recent call last)",
      "Cell \u001b[0;32mIn[7], line 1\u001b[0m\n\u001b[0;32m----> 1\u001b[0m name_map, timezone_map, observations \u001b[38;5;241m=\u001b[39m \u001b[43mget_stations\u001b[49m\u001b[43m(\u001b[49m\u001b[43mSTATION_ID\u001b[49m\u001b[43m)\u001b[49m[\u001b[38;5;241m0\u001b[39m], get_stations(STATION_ID)[\u001b[38;5;241m1\u001b[39m], get_stations(STATION_ID)[\u001b[38;5;241m2\u001b[39m]\n",
      "\u001b[0;31mTypeError\u001b[0m: get_stations() takes 0 positional arguments but 1 was given"
     ]
    }
   ],
   "source": [
    "name_map, timezone_map, observations = get_stations(STATION_ID)[0], get_stations(STATION_ID)[1], get_stations(STATION_ID)[2]"
   ]
  },
  {
   "cell_type": "code",
   "execution_count": 8,
   "metadata": {},
   "outputs": [],
   "source": [
    "# Transform and create data points\n",
    "def transform_observations(observations, name_map, timezone_map):\n",
    "    transformed_data = []\n",
    "    name = name_map.get(STATION_ID, \"Unknown\")  # Get station's timezone\n",
    "    timezone = timezone_map.get(STATION_ID, \"Unknown\")  # Get station's timezone\n",
    "\n",
    "    for obs in observations:\n",
    "        # Verificar y extraer cada atributo asegurándose de que no sea None antes de aplicar round\n",
    "        temp = obs['properties'].get('temperature')\n",
    "        temperature = round(temp['value'], 2) if temp and temp.get('value') is not None else None\n",
    "        \n",
    "        wind_speed_data = obs['properties'].get('windSpeed')\n",
    "        wind_speed = round(wind_speed_data['value'], 2) if wind_speed_data and wind_speed_data.get('value') is not None else None\n",
    "        \n",
    "        humidity_data = obs['properties'].get('relativeHumidity')\n",
    "        humidity = round(humidity_data['value'], 2) if humidity_data and humidity_data.get('value') is not None else None\n",
    "        \n",
    "        data = {\n",
    "            \"station_id\": STATION_ID,\n",
    "            \"station_name\": name,\n",
    "            \"station_timezone\": timezone,\n",
    "            \"latitude\": obs['geometry']['coordinates'][1],\n",
    "            \"longitude\": obs['geometry']['coordinates'][0],\n",
    "            \"timestamp\": obs['properties']['timestamp'],\n",
    "            \"temperature\": temperature,\n",
    "            \"wind_speed\": wind_speed,\n",
    "            \"humidity\": humidity\n",
    "        }\n",
    "        transformed_data.append(data)\n",
    "    return transformed_data"
   ]
  },
  {
   "cell_type": "code",
   "execution_count": 9,
   "metadata": {},
   "outputs": [],
   "source": [
    "obs = transform_observations(observations, name_map, timezone_map)"
   ]
  },
  {
   "cell_type": "code",
   "execution_count": 10,
   "metadata": {},
   "outputs": [
    {
     "data": {
      "text/plain": [
       "{'station_id': '0128W',\n",
       " 'station_name': 'Ringling Museum of Art',\n",
       " 'station_timezone': 'America/New_York',\n",
       " 'latitude': 27.38,\n",
       " 'longitude': -82.56,\n",
       " 'timestamp': '2024-09-07T17:40:00+00:00',\n",
       " 'temperature': 33.44,\n",
       " 'wind_speed': 1.62,\n",
       " 'humidity': 67.14}"
      ]
     },
     "execution_count": 10,
     "metadata": {},
     "output_type": "execute_result"
    }
   ],
   "source": [
    "obs[0]"
   ]
  },
  {
   "cell_type": "code",
   "execution_count": 11,
   "metadata": {},
   "outputs": [],
   "source": [
    "df = pd.DataFrame(obs)"
   ]
  },
  {
   "cell_type": "code",
   "execution_count": 12,
   "metadata": {},
   "outputs": [
    {
     "data": {
      "text/html": [
       "<div>\n",
       "<style scoped>\n",
       "    .dataframe tbody tr th:only-of-type {\n",
       "        vertical-align: middle;\n",
       "    }\n",
       "\n",
       "    .dataframe tbody tr th {\n",
       "        vertical-align: top;\n",
       "    }\n",
       "\n",
       "    .dataframe thead th {\n",
       "        text-align: right;\n",
       "    }\n",
       "</style>\n",
       "<table border=\"1\" class=\"dataframe\">\n",
       "  <thead>\n",
       "    <tr style=\"text-align: right;\">\n",
       "      <th></th>\n",
       "      <th>station_id</th>\n",
       "      <th>station_name</th>\n",
       "      <th>station_timezone</th>\n",
       "      <th>latitude</th>\n",
       "      <th>longitude</th>\n",
       "      <th>timestamp</th>\n",
       "      <th>temperature</th>\n",
       "      <th>wind_speed</th>\n",
       "      <th>humidity</th>\n",
       "    </tr>\n",
       "  </thead>\n",
       "  <tbody>\n",
       "    <tr>\n",
       "      <th>0</th>\n",
       "      <td>0128W</td>\n",
       "      <td>Ringling Museum of Art</td>\n",
       "      <td>America/New_York</td>\n",
       "      <td>27.38</td>\n",
       "      <td>-82.56</td>\n",
       "      <td>2024-09-07T17:40:00+00:00</td>\n",
       "      <td>33.44</td>\n",
       "      <td>1.62</td>\n",
       "      <td>67.14</td>\n",
       "    </tr>\n",
       "    <tr>\n",
       "      <th>1</th>\n",
       "      <td>0128W</td>\n",
       "      <td>Ringling Museum of Art</td>\n",
       "      <td>America/New_York</td>\n",
       "      <td>27.38</td>\n",
       "      <td>-82.56</td>\n",
       "      <td>2024-09-07T17:20:00+00:00</td>\n",
       "      <td>33.28</td>\n",
       "      <td>6.44</td>\n",
       "      <td>68.92</td>\n",
       "    </tr>\n",
       "    <tr>\n",
       "      <th>2</th>\n",
       "      <td>0128W</td>\n",
       "      <td>Ringling Museum of Art</td>\n",
       "      <td>America/New_York</td>\n",
       "      <td>27.38</td>\n",
       "      <td>-82.56</td>\n",
       "      <td>2024-09-07T17:10:00+00:00</td>\n",
       "      <td>33.22</td>\n",
       "      <td>3.24</td>\n",
       "      <td>70.05</td>\n",
       "    </tr>\n",
       "    <tr>\n",
       "      <th>3</th>\n",
       "      <td>0128W</td>\n",
       "      <td>Ringling Museum of Art</td>\n",
       "      <td>America/New_York</td>\n",
       "      <td>27.38</td>\n",
       "      <td>-82.56</td>\n",
       "      <td>2024-09-07T16:40:00+00:00</td>\n",
       "      <td>33.11</td>\n",
       "      <td>9.65</td>\n",
       "      <td>71.61</td>\n",
       "    </tr>\n",
       "    <tr>\n",
       "      <th>4</th>\n",
       "      <td>0128W</td>\n",
       "      <td>Ringling Museum of Art</td>\n",
       "      <td>America/New_York</td>\n",
       "      <td>27.38</td>\n",
       "      <td>-82.56</td>\n",
       "      <td>2024-09-07T15:40:00+00:00</td>\n",
       "      <td>32.67</td>\n",
       "      <td>3.24</td>\n",
       "      <td>69.21</td>\n",
       "    </tr>\n",
       "  </tbody>\n",
       "</table>\n",
       "</div>"
      ],
      "text/plain": [
       "  station_id            station_name  station_timezone  latitude  longitude  \\\n",
       "0      0128W  Ringling Museum of Art  America/New_York     27.38     -82.56   \n",
       "1      0128W  Ringling Museum of Art  America/New_York     27.38     -82.56   \n",
       "2      0128W  Ringling Museum of Art  America/New_York     27.38     -82.56   \n",
       "3      0128W  Ringling Museum of Art  America/New_York     27.38     -82.56   \n",
       "4      0128W  Ringling Museum of Art  America/New_York     27.38     -82.56   \n",
       "\n",
       "                   timestamp  temperature  wind_speed  humidity  \n",
       "0  2024-09-07T17:40:00+00:00        33.44        1.62     67.14  \n",
       "1  2024-09-07T17:20:00+00:00        33.28        6.44     68.92  \n",
       "2  2024-09-07T17:10:00+00:00        33.22        3.24     70.05  \n",
       "3  2024-09-07T16:40:00+00:00        33.11        9.65     71.61  \n",
       "4  2024-09-07T15:40:00+00:00        32.67        3.24     69.21  "
      ]
     },
     "execution_count": 12,
     "metadata": {},
     "output_type": "execute_result"
    }
   ],
   "source": [
    "df.head()"
   ]
  },
  {
   "cell_type": "code",
   "execution_count": 84,
   "metadata": {},
   "outputs": [
    {
     "data": {
      "text/plain": [
       "station_id           object\n",
       "station_name         object\n",
       "station_timezone     object\n",
       "latitude            float64\n",
       "longitude           float64\n",
       "timestamp            object\n",
       "temperature         float64\n",
       "wind_speed          float64\n",
       "humidity            float64\n",
       "dtype: object"
      ]
     },
     "execution_count": 84,
     "metadata": {},
     "output_type": "execute_result"
    }
   ],
   "source": [
    "df.dtypes"
   ]
  },
  {
   "cell_type": "code",
   "execution_count": null,
   "metadata": {},
   "outputs": [],
   "source": []
  }
 ],
 "metadata": {
  "kernelspec": {
   "display_name": "Python 3",
   "language": "python",
   "name": "python3"
  },
  "language_info": {
   "codemirror_mode": {
    "name": "ipython",
    "version": 3
   },
   "file_extension": ".py",
   "mimetype": "text/x-python",
   "name": "python",
   "nbconvert_exporter": "python",
   "pygments_lexer": "ipython3",
   "version": "3.12.2"
  }
 },
 "nbformat": 4,
 "nbformat_minor": 2
}
